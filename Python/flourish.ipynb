{
 "cells": [
  {
   "cell_type": "markdown",
   "metadata": {},
   "source": [
    "CÓDIGO DE TRANSFORMAÇÃO PARA UTILIZAÇÃO DA FERRAMENTA FLOURISH"
   ]
  },
  {
   "cell_type": "code",
   "execution_count": null,
   "metadata": {},
   "outputs": [],
   "source": [
    "import pandas as pd\n",
    "\n",
    "df = pd.read_csv('RaspagemSeries4.csv')\n",
    "\n",
    "pivot_df = df.pivot_table(index='titulo', columns='dataLeitura', values='posicao', aggfunc='min')\n",
    "pivot_df.reset_index(inplace=True)\n",
    "poster_mapping = df.groupby('titulo')['poster'].first().to_dict()\n",
    "pivot_df['poster'] = pivot_df['titulo'].map(poster_mapping)\n",
    "\n",
    "pivot_df.to_csv('pivoted_data.csv', index=False)\n"
   ]
  }
 ],
 "metadata": {
  "language_info": {
   "name": "python"
  }
 },
 "nbformat": 4,
 "nbformat_minor": 2
}
